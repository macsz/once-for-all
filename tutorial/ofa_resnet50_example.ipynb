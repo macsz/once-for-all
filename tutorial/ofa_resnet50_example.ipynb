{
  "cells": [
    {
      "cell_type": "markdown",
      "metadata": {
        "id": "view-in-github",
        "colab_type": "text"
      },
      "source": [
        "<a href=\"https://colab.research.google.com/github/macsz/once-for-all/blob/gut2022/tutorial/ofa_resnet50_example.ipynb\" target=\"_parent\"><img src=\"https://colab.research.google.com/assets/colab-badge.svg\" alt=\"Open In Colab\"/></a>"
      ]
    },
    {
      "cell_type": "code",
      "execution_count": null,
      "metadata": {
        "collapsed": true,
        "id": "IW7izc7Igvo_"
      },
      "outputs": [],
      "source": [
        "# build ofa resnet50\n",
        "from ofa.model_zoo import ofa_net\n",
        "ofa_network = ofa_net('ofa_resnet50', pretrained=True)\n"
      ]
    },
    {
      "cell_type": "code",
      "execution_count": null,
      "outputs": [],
      "source": [
        "# accuracy predictor\n",
        "import torch\n",
        "from ofa.nas.accuracy_predictor import AccuracyPredictor, ResNetArchEncoder\n",
        "from ofa.utils import download_url\n",
        "\n",
        "image_size_list = [128, 144, 160, 176, 192, 224, 240, 256]\n",
        "arch_encoder = ResNetArchEncoder(\n",
        "\timage_size_list=image_size_list, depth_list=ofa_network.depth_list, expand_list=ofa_network.expand_ratio_list,\n",
        "    width_mult_list=ofa_network.width_mult_list, base_depth_list=ofa_network.BASE_DEPTH_LIST\n",
        ")\n",
        "\n",
        "acc_predictor_checkpoint_path = download_url(\n",
        "    'https://hanlab.mit.edu/files/OnceForAll/tutorial/ofa_resnet50_acc_predictor.pth',\n",
        "    model_dir='~/.ofa/',\n",
        ")\n",
        "device = 'cuda:0' if torch.cuda.is_available() else 'cpu'\n",
        "acc_predictor = AccuracyPredictor(arch_encoder, 400, 3,\n",
        "                                  checkpoint_path=acc_predictor_checkpoint_path, device=device)\n",
        "\n",
        "print('The accuracy predictor is ready!')\n",
        "print(acc_predictor)"
      ],
      "metadata": {
        "pycharm": {
          "name": "#%%\n"
        },
        "id": "guIUDgVhgvpC"
      }
    },
    {
      "cell_type": "code",
      "execution_count": null,
      "outputs": [],
      "source": [
        "# build efficiency predictor\n",
        "from ofa.nas.efficiency_predictor import ResNet50FLOPsModel\n",
        "\n",
        "efficiency_predictor = ResNet50FLOPsModel(ofa_network)"
      ],
      "metadata": {
        "pycharm": {
          "name": "#%%\n"
        },
        "id": "_67XJ5mFgvpD"
      }
    },
    {
      "cell_type": "code",
      "execution_count": null,
      "outputs": [],
      "source": [
        "# search\n",
        "import random\n",
        "\n",
        "for i in range(10):\n",
        "    subnet_config = ofa_network.sample_active_subnet()\n",
        "    image_size = random.choice(image_size_list)\n",
        "    subnet_config.update({'image_size': image_size})\n",
        "    predicted_acc = acc_predictor.predict_acc([subnet_config])\n",
        "    predicted_efficiency = efficiency_predictor.get_efficiency(subnet_config)\n",
        "\n",
        "    print(i, '\\t', predicted_acc, '\\t', '%.1fM MACs' % predicted_efficiency)\n"
      ],
      "metadata": {
        "pycharm": {
          "name": "#%%\n"
        },
        "id": "2CT3PPorgvpE"
      }
    }
  ],
  "metadata": {
    "kernelspec": {
      "display_name": "Python 3",
      "language": "python",
      "name": "python3"
    },
    "language_info": {
      "codemirror_mode": {
        "name": "ipython",
        "version": 2
      },
      "file_extension": ".py",
      "mimetype": "text/x-python",
      "name": "python",
      "nbconvert_exporter": "python",
      "pygments_lexer": "ipython2",
      "version": "2.7.6"
    },
    "colab": {
      "name": "ofa_resnet50_example.ipynb",
      "provenance": [],
      "include_colab_link": true
    }
  },
  "nbformat": 4,
  "nbformat_minor": 0
}